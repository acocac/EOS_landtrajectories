{
 "cells": [
  {
   "cell_type": "markdown",
   "metadata": {},
   "source": [
    "# Example ML to land cover classification\n",
    "Example of model benchmarking and implementation using Rußwurm & Korner (2017)'s sequence data approach for land cover classification using MODIS (MOD13Q1) satellite data time series and ESA-CCI (reference land cover maps, 1992-2016)\n",
    "\n",
    "Rußwurm M., Körner M. (2017). Temporal Vegetation Modelling using Long Short-Term Memory Networks\n",
    "for Crop Identification from Medium-Resolution Multi-Spectral Satellite Images. In Proceedings of the\n",
    "IEEE Conference on Computer Vision and Pattern Recognition (CVPR) Workshops, 2017."
   ]
  },
  {
   "cell_type": "code",
   "execution_count": 4,
   "metadata": {
    "collapsed": true
   },
   "outputs": [],
   "source": [
    "import os"
   ]
  },
  {
   "cell_type": "code",
   "execution_count": 5,
   "metadata": {
    "collapsed": false
   },
   "outputs": [],
   "source": [
    "os.environ['THEANO_FLAGS']='mode=FAST_RUN,device=cpu'"
   ]
  },
  {
   "cell_type": "code",
   "execution_count": 9,
   "metadata": {
    "collapsed": false
   },
   "outputs": [],
   "source": [
    "import time\n",
    "import pandas as pd\n",
    "import numpy as np\n",
    "import sklearn\n",
    "from sklearn.model_selection import StratifiedKFold\n",
    "from sklearn.linear_model import LogisticRegression\n",
    "from sklearn.tree import DecisionTreeClassifier\n",
    "from sklearn.ensemble import RandomForestClassifier\n",
    "from sklearn.ensemble import GradientBoostingClassifier\n",
    "from sklearn.svm import SVC\n",
    "from keras.models import Sequential\n",
    "from keras.layers import Dense, Dropout\n",
    "from keras.layers import LSTM\n",
    "from keras.optimizers import RMSprop\n",
    "from keras.utils import np_utils"
   ]
  },
  {
   "cell_type": "code",
   "execution_count": 12,
   "metadata": {
    "collapsed": true
   },
   "outputs": [],
   "source": [
    "#functions\n",
    "def onehot(labels):\n",
    "    Uniques,Index  = np.unique(labels,return_inverse=True)\n",
    "    return np_utils.to_categorical(Index,len(Uniques))\n",
    "\n",
    "def inverse_onehot(matrix):\n",
    "    labels =[]\n",
    "    for row in matrix:\n",
    "        labels.append(np.argmax(row,axis=0))\n",
    "    return labels   "
   ]
  },
  {
   "cell_type": "code",
   "execution_count": 10,
   "metadata": {
    "collapsed": false
   },
   "outputs": [],
   "source": [
    "#load pandas data (train and validation sets) - to be stored locally. Dataset available online in the repository\n",
    "in_dir = \"/home/acocac/post/tmp/\"\n",
    "df_train = pd.read_csv(in_dir + \"traindata_2classes.csv\", sep=',')"
   ]
  },
  {
   "cell_type": "code",
   "execution_count": 13,
   "metadata": {
    "collapsed": false
   },
   "outputs": [],
   "source": [
    "##input data preparation\n",
    "#pandas to 3d array\n",
    "train_dataset = np.array(list(df_train.groupby('Mid').apply(pd.DataFrame.as_matrix)))\n",
    "validation_dataset = np.array(list(df_validation.groupby('Mid').apply(pd.DataFrame.as_matrix)))\n",
    "\n",
    "#settings\n",
    "n_classes = 2\n",
    "target = ['red','blue','nir','mir','fyear'] #variables by doy\n",
    "\n",
    "index_features = map(lambda col: df_train.columns.get_loc(col), target)\n",
    "index_labels = df_train.columns.get_loc('label')\n",
    "\n",
    "#data\n",
    "X = train_dataset[:,:,index_features]\n",
    "Y = train_dataset[:,:,index_labels]\n",
    "Y = Y.mean(axis=1, dtype='int16')"
   ]
  },
  {
   "cell_type": "code",
   "execution_count": 14,
   "metadata": {
    "collapsed": true
   },
   "outputs": [],
   "source": [
    "LR = {'package':'sklearn',\"name\": 'Logistic Regression', \"conf\": LogisticRegression(), \"results\" : [], \"time\": []}\n",
    "DT = {'package':'sklearn',\"name\": 'Decision Tree', \"conf\": DecisionTreeClassifier(max_depth=10), \"results\" : [],\"time\": []}\n",
    "RF1 = {'package':'sklearn',\"name\": 'Simple Random Forest', \"conf\": RandomForestClassifier(n_jobs=-1, max_depth=10), \"results\" : [],\"time\": []}\n",
    "RF2 = {'package':'sklearn',\"name\": 'Complex Random Forest', \"conf\": RandomForestClassifier(n_jobs=-1, n_estimators=50), \"results\" : [],\"time\": []}\n",
    "GB = {'package':'sklearn',\"name\": 'Gradient Boosting', \"conf\": GradientBoostingClassifier(), \"results\" : [],\"time\": []}\n",
    "SVM = {'package':'sklearn',\"name\": 'Support Vector Machines', \"conf\": SVC(), \"results\" : [],\"time\": []}\n",
    "FFNN1 = {'package':'keras',\"name\": 'Simple ANN', \"results\" : [],\"time\": []}\n",
    "FFNN2 = {'package':'keras',\"name\": 'Complex ANN', \"results\" : [],\"time\": []}\n",
    "LSTMRNN = {'package':'keras',\"name\": 'Long Short Term Memory (LSTM)', \"results\" : [],\"time\": []}\n",
    "\n",
    "models = [LR, DT, RF1, RF2, GB, SVM, FFNN1, FFNN2, LSTMRNN]"
   ]
  },
  {
   "cell_type": "code",
   "execution_count": 15,
   "metadata": {
    "collapsed": true
   },
   "outputs": [],
   "source": [
    "#fix random seed for reproducibility\n",
    "seed = 7\n",
    "np.random.seed(seed)\n",
    "\n",
    "#define k-fold cross validation\n",
    "folds = 2\n",
    "kfold = StratifiedKFold(n_splits=folds, shuffle=True, random_state=seed) #ensure each fold is different and each sample is seen only once.\n",
    "\n",
    "#LSTM and FFNN model settings\n",
    "batch_size = 100 \n",
    "n_epoch = 120 \n",
    "\n",
    "#empty df\n",
    "res = pd.DataFrame(columns=['acc', 'acc_std', 'time', 'time_std'])\n",
    "\n",
    "for train, test in kfold.split(X, Y): \n",
    "    \n",
    "    #input data LSTM\n",
    "    train_data = X[train]\n",
    "    test_data = X[test]\n",
    "\n",
    "    #input data shallow\n",
    "    train_data_trans = np.reshape(train_data, (train_data.shape[0], train_data.shape[1]*train_data.shape[2])).astype('float32')\n",
    "    test_data_trans = np.reshape(test_data, (test_data.shape[0], test_data.shape[1]*test_data.shape[2])).astype('float32')\n",
    "    \n",
    "    for m in models:\n",
    "        if m['package'] == 'keras':\n",
    "            model = Sequential()\n",
    "            if m['name'] == 'Simple ANN':  \n",
    "                model.add(Dense(50, input_shape=(train_data_trans.shape[1],), activation='relu'))\n",
    "                model.add(Dense(n_classes, activation='softmax'))\n",
    "            elif m['name'] == 'Complex ANN':  \n",
    "                model.add(Dense(50, input_shape=(train_data_trans.shape[1],), activation='relu'))\n",
    "                model.add(Dropout(0.5))\n",
    "                model.add(Dense(50, activation='relu'))\n",
    "                model.add(Dropout(0.5))\n",
    "                model.add(Dense(n_classes, activation='softmax'))\n",
    "            elif m['name'] == 'Long Short Term Memory (LSTM)':  \n",
    "                model.add(LSTM(50, input_shape=(train_data.shape[1], train_data.shape[2])))\n",
    "                model.add(Dropout(0.5))\n",
    "                model.add(Dense(50, activation='relu'))\n",
    "                model.add(Dropout(0.5))\n",
    "                model.add(Dense(n_classes, activation='softmax'))\n",
    "\n",
    "            model.compile(loss='categorical_crossentropy', optimizer=RMSprop(lr=0.01), metrics=['acc'])\n",
    "\n",
    "            if m['name'] != 'Long Short Term Memory (LSTM)':  \n",
    "                start = time.time()\n",
    "                model.fit(train_data_trans, onehot(Y[train]), batch_size=batch_size, nb_epoch=n_epoch, verbose=0)\n",
    "                elapsed = time.time() - start\n",
    "                m['time'].append(elapsed)\n",
    "                res.loc[m['name'], 'time'] = np.mean(m['time'])\n",
    "                res.loc[m['name'], 'time_std'] = np.std(m['time'])\n",
    "                # evaluate the model\n",
    "                scores = model.evaluate(test_data_trans, onehot(Y[test]), verbose=0, batch_size=1000)\n",
    "                \n",
    "            elif m['name'] == 'Long Short Term Memory (LSTM)': \n",
    "                start = time.time()\n",
    "                model.fit(train_data, onehot(Y[train]), batch_size=batch_size, nb_epoch=n_epoch, verbose=0)\n",
    "                elapsed = time.time() - start\n",
    "                m['time'].append(elapsed)\n",
    "                res.loc[m['name'], 'time'] = np.mean(m['time'])\n",
    "                res.loc[m['name'], 'time_std'] = np.std(m['time'])\n",
    "                # evaluate the model\n",
    "                scores = model.evaluate(test_data, onehot(Y[test]), verbose=0, batch_size=1000)\n",
    "\n",
    "            m['results'].append(scores[1] * 100)\n",
    "            res.loc[m['name'], 'acc'] = np.mean(m['results'])\n",
    "            res.loc[m['name'], 'acc_std'] = np.std(m['results'])\n",
    "            res.loc[m['name'], 'parameters'] = model.count_params()\n",
    "            \n",
    "            del start, elapsed, model\n",
    "            \n",
    "        elif m['package'] == 'sklearn':\n",
    "            model = m['conf']\n",
    "\n",
    "            start = time.time()\n",
    "            model.fit(train_data_trans, Y[train])\n",
    "            elapsed = time.time() - start\n",
    "            m['time'].append(elapsed)\n",
    "            res.loc[m['name'], 'time'] = np.mean(m['time'])\n",
    "            res.loc[m['name'], 'time_std'] = np.std(m['time'])\n",
    "\n",
    "            y_pred = model.predict(test_data_trans)\n",
    "            m['results'].append(np.mean(Y[test] == y_pred) * 100)\n",
    "            res.loc[m['name'], 'acc'] = np.mean(m['results'])\n",
    "            res.loc[m['name'], 'acc_std'] = np.std(m['results'])\n",
    "\n",
    "            #parameters\n",
    "            if isinstance(m['conf'], sklearn.linear_model.logistic.LogisticRegression):\n",
    "                res.loc[m['name'],'parameters'] = model.coef_.shape[0] * model.coef_.shape[1] \n",
    "            elif isinstance(m['conf'], sklearn.tree.tree.DecisionTreeClassifier):\n",
    "                res.loc[m['name'],'parameters'] = model.tree_.node_count \n",
    "            elif isinstance(m['conf'], sklearn.ensemble.forest.RandomForestClassifier):\n",
    "                nodes = 0\n",
    "                for tree in model.estimators_:\n",
    "                    nodes += tree.tree_.node_count\n",
    "                if m['name'] == 'Simple Random Forest':\n",
    "                    res.loc[m['name'], 'parameters'] = nodes\n",
    "                if m['name'] == 'Complex Random Forest':\n",
    "                    res.loc[m['name'], 'parameters'] = nodes\n",
    "            elif isinstance(m['conf'], sklearn.ensemble.gradient_boosting.GradientBoostingClassifier):\n",
    "                for temp in model.estimators_:\n",
    "                    for tree in temp:\n",
    "                        nodes += tree.tree_.node_count \n",
    "                res.loc[m['name'], 'parameters'] = nodes\n",
    "            elif isinstance(m['conf'], sklearn.svm.classes.SVC):\n",
    "                res.loc[m['name'], 'parameters'] = model.support_vectors_.shape[0]\n",
    "\n",
    "            del y_pred, start, elapsed, model"
   ]
  },
  {
   "cell_type": "code",
   "execution_count": 20,
   "metadata": {
    "collapsed": false
   },
   "outputs": [
    {
     "data": {
      "text/html": [
       "<div>\n",
       "<table border=\"1\" class=\"dataframe\">\n",
       "  <thead>\n",
       "    <tr style=\"text-align: right;\">\n",
       "      <th></th>\n",
       "      <th>acc</th>\n",
       "      <th>acc_std</th>\n",
       "      <th>time</th>\n",
       "      <th>time_std</th>\n",
       "      <th>parameters</th>\n",
       "    </tr>\n",
       "  </thead>\n",
       "  <tbody>\n",
       "    <tr>\n",
       "      <th>Logistic Regression</th>\n",
       "      <td>88.596</td>\n",
       "      <td>0.127202</td>\n",
       "      <td>0.0261594</td>\n",
       "      <td>0.00184453</td>\n",
       "      <td>5.0</td>\n",
       "    </tr>\n",
       "    <tr>\n",
       "      <th>Decision Tree</th>\n",
       "      <td>91.4378</td>\n",
       "      <td>0.119082</td>\n",
       "      <td>0.0586134</td>\n",
       "      <td>0.00866854</td>\n",
       "      <td>733.0</td>\n",
       "    </tr>\n",
       "    <tr>\n",
       "      <th>Simple Random Forest</th>\n",
       "      <td>92.7268</td>\n",
       "      <td>0.222097</td>\n",
       "      <td>0.175117</td>\n",
       "      <td>0.00266147</td>\n",
       "      <td>5978.0</td>\n",
       "    </tr>\n",
       "    <tr>\n",
       "      <th>Complex Random Forest</th>\n",
       "      <td>93.2128</td>\n",
       "      <td>0.00795737</td>\n",
       "      <td>0.454088</td>\n",
       "      <td>0.066051</td>\n",
       "      <td>74052.0</td>\n",
       "    </tr>\n",
       "    <tr>\n",
       "      <th>Gradient Boosting</th>\n",
       "      <td>92.6156</td>\n",
       "      <td>0.168552</td>\n",
       "      <td>0.682098</td>\n",
       "      <td>0.00646389</td>\n",
       "      <td>75534.0</td>\n",
       "    </tr>\n",
       "    <tr>\n",
       "      <th>Support Vector Machines</th>\n",
       "      <td>88.5342</td>\n",
       "      <td>0.132262</td>\n",
       "      <td>3.82494</td>\n",
       "      <td>0.167151</td>\n",
       "      <td>4490.0</td>\n",
       "    </tr>\n",
       "    <tr>\n",
       "      <th>Simple ANN</th>\n",
       "      <td>92.4138</td>\n",
       "      <td>0.345637</td>\n",
       "      <td>8.42906</td>\n",
       "      <td>0.291829</td>\n",
       "      <td>402.0</td>\n",
       "    </tr>\n",
       "    <tr>\n",
       "      <th>Complex ANN</th>\n",
       "      <td>91.6725</td>\n",
       "      <td>0.000343444</td>\n",
       "      <td>21.4754</td>\n",
       "      <td>0.352332</td>\n",
       "      <td>2952.0</td>\n",
       "    </tr>\n",
       "    <tr>\n",
       "      <th>Long Short Term Memory (LSTM)</th>\n",
       "      <td>92.3479</td>\n",
       "      <td>0.0573436</td>\n",
       "      <td>63.556</td>\n",
       "      <td>0.269691</td>\n",
       "      <td>13852.0</td>\n",
       "    </tr>\n",
       "  </tbody>\n",
       "</table>\n",
       "</div>"
      ],
      "text/plain": [
       "                                   acc      acc_std       time    time_std  \\\n",
       "Logistic Regression             88.596     0.127202  0.0261594  0.00184453   \n",
       "Decision Tree                  91.4378     0.119082  0.0586134  0.00866854   \n",
       "Simple Random Forest           92.7268     0.222097   0.175117  0.00266147   \n",
       "Complex Random Forest          93.2128   0.00795737   0.454088    0.066051   \n",
       "Gradient Boosting              92.6156     0.168552   0.682098  0.00646389   \n",
       "Support Vector Machines        88.5342     0.132262    3.82494    0.167151   \n",
       "Simple ANN                     92.4138     0.345637    8.42906    0.291829   \n",
       "Complex ANN                    91.6725  0.000343444    21.4754    0.352332   \n",
       "Long Short Term Memory (LSTM)  92.3479    0.0573436     63.556    0.269691   \n",
       "\n",
       "                               parameters  \n",
       "Logistic Regression                   5.0  \n",
       "Decision Tree                       733.0  \n",
       "Simple Random Forest               5978.0  \n",
       "Complex Random Forest             74052.0  \n",
       "Gradient Boosting                 75534.0  \n",
       "Support Vector Machines            4490.0  \n",
       "Simple ANN                          402.0  \n",
       "Complex ANN                        2952.0  \n",
       "Long Short Term Memory (LSTM)     13852.0  "
      ]
     },
     "execution_count": 20,
     "metadata": {},
     "output_type": "execute_result"
    }
   ],
   "source": [
    "res"
   ]
  },
  {
   "cell_type": "code",
   "execution_count": 18,
   "metadata": {
    "collapsed": false
   },
   "outputs": [
    {
     "data": {
      "image/png": "[encoded data removed]",
      "text/plain": [
       "<matplotlib.figure.Figure at 0x7f09de596d90>"
      ]
     },
     "metadata": {},
     "output_type": "display_data"
    }
   ],
   "source": [
    "#PLOT Model Benchmark\n",
    "import matplotlib\n",
    "import matplotlib.pyplot as pl\n",
    "%matplotlib inline\n",
    "\n",
    "pl.style.use('ggplot')\n",
    "\n",
    "fig, ax = pl.subplots(figsize=(10,8))\n",
    "pl.errorbar(res.parameters,res.acc,yerr=res.acc_std, marker='o',\n",
    "            markersize=5,  lw=0,  label=\"Error bars plot (accuracy)\", capsize=5, ls='none', color='red', \n",
    "            elinewidth=2)\n",
    "\n",
    "pl.ylim([85, 100])\n",
    "pl.xlabel('Complexity (Number of Parameters)')\n",
    "pl.ylabel('Accuracy')\n",
    "ax.set_xscale('log')\n",
    "\n",
    "\n",
    "vals = ax.get_yticks()\n",
    "ax.set_yticklabels(['{:3.0f}%'.format(x) for x in vals])\n",
    "pl.title('Model Complexity vs. Predicted Power', y=1.05)\n",
    "ax.legend(loc='upper left', numpoints=1, fancybox=True)\n",
    "\n",
    "for label, x, y in zip(res.index, res.parameters, res.acc):\n",
    "    pl.annotate(\n",
    "        label, \n",
    "        xy = (x, y), xytext = (10, -10),\n",
    "        textcoords = 'offset points', ha = 'left', va = 'bottom')"
   ]
  }
 ],
 "metadata": {
  "anaconda-cloud": {},
  "kernelspec": {
   "display_name": "Python [conda root]",
   "language": "python",
   "name": "conda-root-py"
  },
  "language_info": {
   "codemirror_mode": {
    "name": "ipython",
    "version": 2
   },
   "file_extension": ".py",
   "mimetype": "text/x-python",
   "name": "python",
   "nbconvert_exporter": "python",
   "pygments_lexer": "ipython2",
   "version": "2.7.12"
  }
 },
 "nbformat": 4,
 "nbformat_minor": 1
}
